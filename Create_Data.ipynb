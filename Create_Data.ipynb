# 📌 Netflix Churn Prediction with XGBoost + SHAP
# There’s no publicly available Netflix user-level churn dataset with detailed behavioral, 
# billing, and engagement features due to privacy and business confidentiality.

# Create the dataset
import pandas as pd
import numpy as np

np.random.seed(42)

n = 5000  # Number of users

# Simulate subscription and billing data
data = {
    "user_id": np.arange(1, n+1),
    "tenure_months": np.random.randint(1, 48, n),
    "plan_type": np.random.choice(["Basic", "Standard", "Premium"], n, p=[0.3, 0.5, 0.2]),
    "billing_failures_last_90d": np.random.poisson(0.2, n),
    "upgrades_last_6mo": np.random.poisson(0.5, n),
    "price_per_month": np.random.choice([8.99, 13.99, 17.99], n, p=[0.3, 0.5, 0.2]),
}

# Engagement features
data.update({
    "daily_watch_minutes": np.random.normal(90, 30, n).clip(0),
    "avg_session_length": np.random.normal(35, 10, n).clip(5),
    "last_login_days_ago": np.random.exponential(10, n).astype(int),
    "binge_sessions_last_30d": np.random.poisson(4, n),
    "completion_rate": np.random.beta(2, 5, n),  # 0 to 1
})

# Device and usage
data.update({
    "has_kids_profile": np.random.choice([0, 1], n, p=[0.7, 0.3]),
    "uses_download_feature": np.random.choice([0, 1], n, p=[0.6, 0.4]),
    "primary_device_type": np.random.choice(["SmartTV", "Mobile", "Browser", "Tablet"], n),
    "geo_consistency_score": np.random.uniform(0.5, 1.0, n),
})

# Support + Satisfaction
data.update({
    "support_tickets_last_6mo": np.random.poisson(0.3, n),
    "issue_resolution_time_avg": np.random.normal(1.5, 0.5, n).clip(0.5, 5),
    "csat_score": np.random.normal(3.8, 0.7, n).clip(1, 5),  # customer satisfaction
})

# Target: churn label (simulate based on known churn patterns)
df = pd.DataFrame(data)

# Build churn probabilities
df["churn_score"] = (
    0.3 * (df["last_login_days_ago"] > 14).astype(int) +
    0.2 * (df["billing_failures_last_90d"] > 0).astype(int) +
    0.2 * (df["completion_rate"] < 0.3).astype(int) +
    0.2 * (df["support_tickets_last_6mo"] > 1).astype(int) +
    0.1 * (df["tenure_months"] < 6).astype(int)
)

df["churned"] = df["churn_score"].apply(lambda x: np.random.binomial(1, min(x, 0.8)))
df.drop(columns="churn_score", inplace=True)

df.head()

