{
  "nbformat": 4,
  "nbformat_minor": 0,
  "metadata": {
    "colab": {
      "provenance": [],
      "authorship_tag": "ABX9TyPgyPZdbYTsHMmhHktTE/g6",
      "include_colab_link": true
    },
    "kernelspec": {
      "name": "python3",
      "display_name": "Python 3"
    },
    "language_info": {
      "name": "python"
    }
  },
  "cells": [
    {
      "cell_type": "markdown",
      "metadata": {
        "id": "view-in-github",
        "colab_type": "text"
      },
      "source": [
        "<a href=\"https://colab.research.google.com/github/mariamcs/Customer_Churn/blob/main/Customer_Churn.ipynb\" target=\"_parent\"><img src=\"https://colab.research.google.com/assets/colab-badge.svg\" alt=\"Open In Colab\"/></a>"
      ]
    },
    {
      "cell_type": "code",
      "execution_count": null,
      "metadata": {
        "id": "rntvWBkmHro8"
      },
      "outputs": [],
      "source": []
    },
    {
      "cell_type": "code",
      "source": [
        "from pyspark.sql import SparkSession\n",
        "from pyspark.sql.functions import rand, when, round as spark_round\n",
        "\n",
        "# Create Spark session\n",
        "spark = SparkSession.builder.appName(\"SimulatedNetflixChurn\").getOrCreate()\n",
        "\n",
        "# Number of rows\n",
        "n = 100000\n",
        "\n",
        "# Generate DataFrame\n",
        "df = (\n",
        "    spark.range(0, n)\n",
        "    .withColumn(\"daily_watch_minutes\", spark_round(rand() * 300, 1))\n",
        "    .withColumn(\"avg_session_length\", spark_round(rand() * 90 + 10, 1))\n",
        "    .withColumn(\"last_login_days_ago\", (rand() * 60).cast(\"int\"))\n",
        "    .withColumn(\"binge_sessions_last_30d\", (rand() * 10).cast(\"int\"))\n",
        "    .withColumn(\"completion_rate\", spark_round(rand(), 2))\n",
        "\n",
        "    .withColumn(\"plan_type\", when(rand() < 0.6, \"Standard\").when(rand() < 0.85, \"Premium\").otherwise(\"Basic\"))\n",
        "    .withColumn(\"tenure_months\", (rand() * 48).cast(\"int\"))\n",
        "    .withColumn(\"price_per_hour_watched\", spark_round(rand() * 0.5 + 0.2, 2))\n",
        "    .withColumn(\"billing_failures_last_90d\", (rand() * 3).cast(\"int\"))\n",
        "    .withColumn(\"upgrades_last_6mo\", (rand() * 2).cast(\"int\"))\n",
        "\n",
        "    .withColumn(\"has_kids_profile\", when(rand() < 0.3, 1).otherwise(0))\n",
        "    .withColumn(\"uses_download_feature\", when(rand() < 0.5, 1).otherwise(0))\n",
        "    .withColumn(\"simultaneous_streams_used\", (rand() * 4 + 1).cast(\"int\"))\n",
        "    .withColumn(\"primary_device_type\", when(rand() < 0.4, \"Smart TV\").when(rand() < 0.7, \"Mobile\").otherwise(\"Laptop\"))\n",
        "    .withColumn(\"geo_consistency_score\", spark_round(rand(), 2))\n",
        "\n",
        "    .withColumn(\"support_tickets_last_6mo\", (rand() * 5).cast(\"int\"))\n",
        "    .withColumn(\"cancel_reason_code\", when(rand() < 0.1, \"Pricing\").when(rand() < 0.2, \"Content\").when(rand() < 0.3, \"Tech Issues\").otherwise(\"None\"))\n",
        "    .withColumn(\"issue_resolution_time_avg\", spark_round(rand() * 48, 1))\n",
        "\n",
        "    .withColumn(\"churned\", when(rand() < 0.2, 1).otherwise(0))\n",
        ")\n",
        "\n",
        "df.show(5)\n"
      ],
      "metadata": {
        "colab": {
          "base_uri": "https://localhost:8080/"
        },
        "id": "mFvlulE4H5Bb",
        "outputId": "09eedb87-1bdd-47ae-bb88-1743b63b734c"
      },
      "execution_count": 1,
      "outputs": [
        {
          "output_type": "stream",
          "name": "stdout",
          "text": [
            "+---+-------------------+------------------+-------------------+-----------------------+---------------+---------+-------------+----------------------+-------------------------+-----------------+----------------+---------------------+-------------------------+-------------------+---------------------+------------------------+------------------+-------------------------+-------+\n",
            "| id|daily_watch_minutes|avg_session_length|last_login_days_ago|binge_sessions_last_30d|completion_rate|plan_type|tenure_months|price_per_hour_watched|billing_failures_last_90d|upgrades_last_6mo|has_kids_profile|uses_download_feature|simultaneous_streams_used|primary_device_type|geo_consistency_score|support_tickets_last_6mo|cancel_reason_code|issue_resolution_time_avg|churned|\n",
            "+---+-------------------+------------------+-------------------+-----------------------+---------------+---------+-------------+----------------------+-------------------------+-----------------+----------------+---------------------+-------------------------+-------------------+---------------------+------------------------+------------------+-------------------------+-------+\n",
            "|  0|              255.7|              94.7|                 27|                      1|           0.79| Standard|           39|                  0.62|                        2|                0|               0|                    1|                        4|           Smart TV|                 0.34|                       0|              None|                     28.7|      0|\n",
            "|  1|              284.6|              93.5|                 43|                      2|           0.92|  Premium|           18|                  0.31|                        0|                0|               0|                    0|                        4|             Laptop|                 0.91|                       4|       Tech Issues|                     19.7|      1|\n",
            "|  2|               26.8|              65.4|                 28|                      5|            0.7|    Basic|           22|                  0.35|                        2|                1|               1|                    0|                        3|             Mobile|                 0.29|                       3|              None|                      5.7|      0|\n",
            "|  3|              135.7|              81.1|                  2|                      6|           0.98| Standard|           22|                  0.47|                        1|                0|               0|                    1|                        4|           Smart TV|                 0.99|                       3|              None|                     28.8|      0|\n",
            "|  4|               10.6|              80.3|                 31|                      7|           0.22|  Premium|           35|                  0.48|                        0|                1|               0|                    0|                        2|             Laptop|                 0.97|                       1|           Content|                     28.3|      0|\n",
            "+---+-------------------+------------------+-------------------+-----------------------+---------------+---------+-------------+----------------------+-------------------------+-----------------+----------------+---------------------+-------------------------+-------------------+---------------------+------------------------+------------------+-------------------------+-------+\n",
            "only showing top 5 rows\n",
            "\n"
          ]
        }
      ]
    },
    {
      "cell_type": "code",
      "source": [],
      "metadata": {
        "id": "2TmUJV5hO7iq"
      },
      "execution_count": null,
      "outputs": []
    }
  ]
}