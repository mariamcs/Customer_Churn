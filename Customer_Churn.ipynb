{
  "nbformat": 4,
  "nbformat_minor": 0,
  "metadata": {
    "colab": {
      "provenance": [],
      "authorship_tag": "ABX9TyN/kiewuxf2lV7p4VfyX1c8",
      "include_colab_link": true
    },
    "kernelspec": {
      "name": "python3",
      "display_name": "Python 3"
    },
    "language_info": {
      "name": "python"
    }
  },
  "cells": [
    {
      "cell_type": "markdown",
      "metadata": {
        "id": "view-in-github",
        "colab_type": "text"
      },
      "source": [
        "<a href=\"https://colab.research.google.com/github/mariamcs/Customer_Churn/blob/main/Customer_Churn.ipynb\" target=\"_parent\"><img src=\"https://colab.research.google.com/assets/colab-badge.svg\" alt=\"Open In Colab\"/></a>"
      ]
    },
    {
      "cell_type": "code",
      "execution_count": null,
      "metadata": {
        "id": "rntvWBkmHro8"
      },
      "outputs": [],
      "source": []
    },
    {
      "cell_type": "markdown",
      "source": [
        "# **Data Creation Step**"
      ],
      "metadata": {
        "id": "AUmBCCcZxIao"
      }
    },
    {
      "cell_type": "code",
      "source": [
        "from pyspark.sql import SparkSession\n",
        "from pyspark.sql.functions import rand, when, round as spark_round\n",
        "\n",
        "# Create Spark session\n",
        "spark = SparkSession.builder.appName(\"SimulatedNetflixChurn\").getOrCreate()\n",
        "\n",
        "# Number of rows\n",
        "n = 100000\n",
        "\n",
        "# Generate DataFrame\n",
        "df = (\n",
        "    spark.range(0, n)\n",
        "    .withColumn(\"daily_watch_minutes\", spark_round(rand() * 300, 1))\n",
        "    .withColumn(\"avg_session_length\", spark_round(rand() * 90 + 10, 1))\n",
        "    .withColumn(\"last_login_days_ago\", (rand() * 60).cast(\"int\"))\n",
        "    .withColumn(\"binge_sessions_last_30d\", (rand() * 10).cast(\"int\"))\n",
        "    .withColumn(\"completion_rate\", spark_round(rand(), 2))\n",
        "\n",
        "    .withColumn(\"plan_type\", when(rand() < 0.6, \"Standard\").when(rand() < 0.85, \"Premium\").otherwise(\"Basic\"))\n",
        "    .withColumn(\"tenure_months\", (rand() * 48).cast(\"int\"))\n",
        "    .withColumn(\"price_per_hour_watched\", spark_round(rand() * 0.5 + 0.2, 2))\n",
        "    .withColumn(\"billing_failures_last_90d\", (rand() * 3).cast(\"int\"))\n",
        "    .withColumn(\"upgrades_last_6mo\", (rand() * 2).cast(\"int\"))\n",
        "\n",
        "    .withColumn(\"has_kids_profile\", when(rand() < 0.3, 1).otherwise(0))\n",
        "    .withColumn(\"uses_download_feature\", when(rand() < 0.5, 1).otherwise(0))\n",
        "    .withColumn(\"simultaneous_streams_used\", (rand() * 4 + 1).cast(\"int\"))\n",
        "    .withColumn(\"primary_device_type\", when(rand() < 0.4, \"Smart TV\").when(rand() < 0.7, \"Mobile\").otherwise(\"Laptop\"))\n",
        "    .withColumn(\"geo_consistency_score\", spark_round(rand(), 2))\n",
        "\n",
        "    .withColumn(\"support_tickets_last_6mo\", (rand() * 5).cast(\"int\"))\n",
        "    .withColumn(\"cancel_reason_code\", when(rand() < 0.1, \"Pricing\").when(rand() < 0.2, \"Content\").when(rand() < 0.3, \"Tech Issues\").otherwise(\"None\"))\n",
        "    .withColumn(\"issue_resolution_time_avg\", spark_round(rand() * 48, 1))\n",
        "\n",
        "    .withColumn(\"churned\", when(rand() < 0.2, 1).otherwise(0))\n",
        ")\n",
        "\n",
        "df.show(5)\n"
      ],
      "metadata": {
        "colab": {
          "base_uri": "https://localhost:8080/"
        },
        "id": "mFvlulE4H5Bb",
        "outputId": "cf5da0bf-5de0-41cc-fbbf-5d39689645a1"
      },
      "execution_count": 2,
      "outputs": [
        {
          "output_type": "stream",
          "name": "stdout",
          "text": [
            "+---+-------------------+------------------+-------------------+-----------------------+---------------+---------+-------------+----------------------+-------------------------+-----------------+----------------+---------------------+-------------------------+-------------------+---------------------+------------------------+------------------+-------------------------+-------+\n",
            "| id|daily_watch_minutes|avg_session_length|last_login_days_ago|binge_sessions_last_30d|completion_rate|plan_type|tenure_months|price_per_hour_watched|billing_failures_last_90d|upgrades_last_6mo|has_kids_profile|uses_download_feature|simultaneous_streams_used|primary_device_type|geo_consistency_score|support_tickets_last_6mo|cancel_reason_code|issue_resolution_time_avg|churned|\n",
            "+---+-------------------+------------------+-------------------+-----------------------+---------------+---------+-------------+----------------------+-------------------------+-----------------+----------------+---------------------+-------------------------+-------------------+---------------------+------------------------+------------------+-------------------------+-------+\n",
            "|  0|                9.8|              81.6|                 56|                      6|           0.14| Standard|           38|                  0.56|                        2|                1|               1|                    0|                        4|           Smart TV|                 0.25|                       1|              None|                     34.2|      0|\n",
            "|  1|              141.9|              67.1|                 56|                      2|           0.24| Standard|            0|                  0.31|                        1|                1|               0|                    0|                        4|             Laptop|                 0.15|                       2|           Content|                     39.3|      0|\n",
            "|  2|               58.8|              76.9|                 54|                      8|           0.45|  Premium|           12|                  0.32|                        2|                0|               0|                    0|                        3|           Smart TV|                 0.77|                       2|              None|                     41.0|      0|\n",
            "|  3|              189.8|              64.3|                 30|                      4|           0.45|    Basic|           45|                  0.67|                        2|                0|               0|                    1|                        4|           Smart TV|                 0.94|                       0|              None|                     14.5|      1|\n",
            "|  4|              107.1|              48.2|                 52|                      5|           0.35|  Premium|            5|                  0.41|                        1|                1|               0|                    1|                        3|             Mobile|                  0.5|                       3|              None|                     42.5|      0|\n",
            "+---+-------------------+------------------+-------------------+-----------------------+---------------+---------+-------------+----------------------+-------------------------+-----------------+----------------+---------------------+-------------------------+-------------------+---------------------+------------------------+------------------+-------------------------+-------+\n",
            "only showing top 5 rows\n",
            "\n"
          ]
        }
      ]
    },
    {
      "cell_type": "code",
      "source": [],
      "metadata": {
        "id": "2TmUJV5hO7iq"
      },
      "execution_count": null,
      "outputs": []
    },
    {
      "cell_type": "markdown",
      "source": [
        "# **Data Cleaning Step**"
      ],
      "metadata": {
        "id": "_XtouWbyxLtn"
      }
    },
    {
      "cell_type": "code",
      "source": [
        "# Drop rows with nulls (simple method, can be replaced with imputation if needed)\n",
        "df_clean = df.na.drop()\n",
        "\n",
        "# Optionally: You could also handle outliers or convert types here\n",
        "# Example: Log-transform skewed columns, or clip values\n"
      ],
      "metadata": {
        "id": "Nqj8FjpZxPAn"
      },
      "execution_count": 5,
      "outputs": []
    },
    {
      "cell_type": "markdown",
      "source": [
        "# **Data engineering Step**\n"
      ],
      "metadata": {
        "id": "zW6_e9oGCJ07"
      }
    },
    {
      "cell_type": "code",
      "source": [
        "df_eng = df_clean \\\n",
        "    .withColumn(\"engagement_ratio\", col(\"daily_watch_minutes\") / (col(\"avg_session_length\") + 1)) \\\n",
        "    .withColumn(\"recent_login_flag\", when(col(\"last_login_days_ago\") < 7, 1).otherwise(0)) \\\n",
        "    .withColumn(\"binge_watcher\", when(col(\"binge_sessions_last_30d\") > 5, 1).otherwise(0)) \\\n",
        "    .withColumn(\"low_completion_flag\", when(col(\"completion_rate\") < 0.5, 1).otherwise(0)) \\\n",
        "    .withColumn(\"tenure_group\", when(col(\"tenure_months\") < 6, \"New\")\n",
        "                .when(col(\"tenure_months\") < 12, \"6-12mo\")\n",
        "                .when(col(\"tenure_months\") < 24, \"12-24mo\")\n",
        "                .otherwise(\"24mo+\")) \\\n",
        "    .withColumn(\"support_contact_flag\", when(col(\"support_tickets_last_6mo\") > 0, 1).otherwise(0)) \\\n",
        "    .withColumn(\"high_resolution_delay\", when(col(\"issue_resolution_time_avg\") > 24, 1).otherwise(0))\n"
      ],
      "metadata": {
        "id": "lmJ6jCadCNu8"
      },
      "execution_count": 6,
      "outputs": []
    },
    {
      "cell_type": "markdown",
      "source": [
        "Encoding Categorical Features"
      ],
      "metadata": {
        "id": "zrZP6H1GCQ-i"
      }
    },
    {
      "cell_type": "code",
      "source": [
        "categorical = [\"plan_type\", \"primary_device_type\", \"cancel_reason_code\", \"tenure_group\"]\n",
        "indexers = [StringIndexer(inputCol=c, outputCol=c+\"_idx\", handleInvalid=\"keep\") for c in categorical]\n",
        "encoders = [OneHotEncoder(inputCol=c+\"_idx\", outputCol=c+\"_vec\") for c in categorical]\n"
      ],
      "metadata": {
        "id": "04DzZDElCUzj"
      },
      "execution_count": 7,
      "outputs": []
    },
    {
      "cell_type": "markdown",
      "source": [
        "# **Preparing the Data for Model**"
      ],
      "metadata": {
        "id": "vHXlIU7cCdks"
      }
    },
    {
      "cell_type": "code",
      "source": [
        "from pyspark.ml.feature import VectorAssembler\n",
        "from pyspark.ml import Pipeline\n",
        "\n",
        "engineered = [\"engagement_ratio\", \"recent_login_flag\", \"binge_watcher\", \"low_completion_flag\",\n",
        "              \"support_contact_flag\", \"high_resolution_delay\"]\n",
        "\n",
        "numerics = [c for c in df.columns if c not in categorical + [\"churned\"]] + engineered\n",
        "features = numerics + [c + \"_vec\" for c in categorical]\n",
        "\n",
        "assembler = VectorAssembler(inputCols=features, outputCol=\"features\")\n",
        "pipeline = Pipeline(stages=indexers + encoders + [assembler])\n",
        "\n",
        "model = pipeline.fit(df_eng)\n",
        "df_ready = model.transform(df_eng)\n",
        "df_ready.select(\"features\", \"churned\").show(5, truncate=False)\n"
      ],
      "metadata": {
        "id": "NFLhoZWICh2r",
        "outputId": "d79caa90-920c-45be-9d6a-1dc505b3df97",
        "colab": {
          "base_uri": "https://localhost:8080/"
        }
      },
      "execution_count": 8,
      "outputs": [
        {
          "output_type": "stream",
          "name": "stdout",
          "text": [
            "+--------------------------------------------------------------------------------------------------------------------------------------------------------------------------------+-------+\n",
            "|features                                                                                                                                                                        |churned|\n",
            "+--------------------------------------------------------------------------------------------------------------------------------------------------------------------------------+-------+\n",
            "|[0.0,9.8,81.6,56.0,6.0,0.14,38.0,0.56,2.0,1.0,1.0,0.0,4.0,0.25,1.0,34.2,0.11864406779661019,0.0,1.0,1.0,1.0,1.0,1.0,0.0,0.0,0.0,1.0,0.0,1.0,0.0,0.0,0.0,1.0,0.0,0.0,0.0]        |0      |\n",
            "|(36,[0,1,2,3,4,5,7,8,9,12,13,14,15,16,19,20,21,22,27,30,34],[1.0,141.9,67.1,56.0,2.0,0.24,0.31,1.0,1.0,4.0,0.15,2.0,39.3,2.083700440528635,1.0,1.0,1.0,1.0,1.0,1.0,1.0])        |0      |\n",
            "|(36,[0,1,2,3,4,5,6,7,8,12,13,14,15,16,18,19,20,21,23,26,28,33],[2.0,58.8,76.9,54.0,8.0,0.45,12.0,0.32,2.0,3.0,0.77,2.0,41.0,0.7548138639281129,1.0,1.0,1.0,1.0,1.0,1.0,1.0,1.0])|0      |\n",
            "|(36,[0,1,2,3,4,5,6,7,8,11,12,13,15,16,19,24,26,28,32],[3.0,189.8,64.3,30.0,4.0,0.45,45.0,0.67,2.0,1.0,4.0,0.94,14.5,2.9065849923430322,1.0,1.0,1.0,1.0,1.0])                    |1      |\n",
            "|[4.0,107.1,48.2,52.0,5.0,0.35,5.0,0.41,1.0,1.0,0.0,1.0,3.0,0.5,3.0,42.5,2.176829268292683,0.0,0.0,1.0,1.0,1.0,0.0,1.0,0.0,1.0,0.0,0.0,1.0,0.0,0.0,0.0,0.0,0.0,1.0,0.0]          |0      |\n",
            "+--------------------------------------------------------------------------------------------------------------------------------------------------------------------------------+-------+\n",
            "only showing top 5 rows\n",
            "\n"
          ]
        }
      ]
    }
  ]
}