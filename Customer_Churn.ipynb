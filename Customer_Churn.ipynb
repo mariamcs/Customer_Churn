{
  "nbformat": 4,
  "nbformat_minor": 0,
  "metadata": {
    "colab": {
      "provenance": [],
      "authorship_tag": "ABX9TyOzBGNwTwWFZrZM75VOh7Ld",
      "include_colab_link": true
    },
    "kernelspec": {
      "name": "python3",
      "display_name": "Python 3"
    },
    "language_info": {
      "name": "python"
    }
  },
  "cells": [
    {
      "cell_type": "markdown",
      "metadata": {
        "id": "view-in-github",
        "colab_type": "text"
      },
      "source": [
        "<a href=\"https://colab.research.google.com/github/mariamcs/Customer_Churn/blob/main/Customer_Churn.ipynb\" target=\"_parent\"><img src=\"https://colab.research.google.com/assets/colab-badge.svg\" alt=\"Open In Colab\"/></a>"
      ]
    },
    {
      "cell_type": "code",
      "execution_count": null,
      "metadata": {
        "id": "rntvWBkmHro8"
      },
      "outputs": [],
      "source": []
    },
    {
      "cell_type": "markdown",
      "source": [
        "# **Data Creation Step**"
      ],
      "metadata": {
        "id": "AUmBCCcZxIao"
      }
    },
    {
      "cell_type": "code",
      "source": [
        "from pyspark.sql import SparkSession\n",
        "from pyspark.sql.functions import rand, when, round as spark_round\n",
        "\n",
        "# Create Spark session\n",
        "spark = SparkSession.builder.appName(\"SimulatedNetflixChurn\").getOrCreate()\n",
        "\n",
        "# Number of rows\n",
        "n = 100000\n",
        "\n",
        "# Generate DataFrame\n",
        "df = (\n",
        "    spark.range(0, n)\n",
        "    .withColumn(\"daily_watch_minutes\", spark_round(rand() * 300, 1))\n",
        "    .withColumn(\"avg_session_length\", spark_round(rand() * 90 + 10, 1))\n",
        "    .withColumn(\"last_login_days_ago\", (rand() * 60).cast(\"int\"))\n",
        "    .withColumn(\"binge_sessions_last_30d\", (rand() * 10).cast(\"int\"))\n",
        "    .withColumn(\"completion_rate\", spark_round(rand(), 2))\n",
        "\n",
        "    .withColumn(\"plan_type\", when(rand() < 0.6, \"Standard\").when(rand() < 0.85, \"Premium\").otherwise(\"Basic\"))\n",
        "    .withColumn(\"tenure_months\", (rand() * 48).cast(\"int\"))\n",
        "    .withColumn(\"price_per_hour_watched\", spark_round(rand() * 0.5 + 0.2, 2))\n",
        "    .withColumn(\"billing_failures_last_90d\", (rand() * 3).cast(\"int\"))\n",
        "    .withColumn(\"upgrades_last_6mo\", (rand() * 2).cast(\"int\"))\n",
        "\n",
        "    .withColumn(\"has_kids_profile\", when(rand() < 0.3, 1).otherwise(0))\n",
        "    .withColumn(\"uses_download_feature\", when(rand() < 0.5, 1).otherwise(0))\n",
        "    .withColumn(\"simultaneous_streams_used\", (rand() * 4 + 1).cast(\"int\"))\n",
        "    .withColumn(\"primary_device_type\", when(rand() < 0.4, \"Smart TV\").when(rand() < 0.7, \"Mobile\").otherwise(\"Laptop\"))\n",
        "    .withColumn(\"geo_consistency_score\", spark_round(rand(), 2))\n",
        "\n",
        "    .withColumn(\"support_tickets_last_6mo\", (rand() * 5).cast(\"int\"))\n",
        "    .withColumn(\"cancel_reason_code\", when(rand() < 0.1, \"Pricing\").when(rand() < 0.2, \"Content\").when(rand() < 0.3, \"Tech Issues\").otherwise(\"None\"))\n",
        "    .withColumn(\"issue_resolution_time_avg\", spark_round(rand() * 48, 1))\n",
        "\n",
        "    .withColumn(\"churned\", when(rand() < 0.2, 1).otherwise(0))\n",
        ")\n",
        "\n",
        "df.show(5)\n"
      ],
      "metadata": {
        "colab": {
          "base_uri": "https://localhost:8080/"
        },
        "id": "mFvlulE4H5Bb",
        "outputId": "cf5da0bf-5de0-41cc-fbbf-5d39689645a1"
      },
      "execution_count": 2,
      "outputs": [
        {
          "output_type": "stream",
          "name": "stdout",
          "text": [
            "+---+-------------------+------------------+-------------------+-----------------------+---------------+---------+-------------+----------------------+-------------------------+-----------------+----------------+---------------------+-------------------------+-------------------+---------------------+------------------------+------------------+-------------------------+-------+\n",
            "| id|daily_watch_minutes|avg_session_length|last_login_days_ago|binge_sessions_last_30d|completion_rate|plan_type|tenure_months|price_per_hour_watched|billing_failures_last_90d|upgrades_last_6mo|has_kids_profile|uses_download_feature|simultaneous_streams_used|primary_device_type|geo_consistency_score|support_tickets_last_6mo|cancel_reason_code|issue_resolution_time_avg|churned|\n",
            "+---+-------------------+------------------+-------------------+-----------------------+---------------+---------+-------------+----------------------+-------------------------+-----------------+----------------+---------------------+-------------------------+-------------------+---------------------+------------------------+------------------+-------------------------+-------+\n",
            "|  0|                9.8|              81.6|                 56|                      6|           0.14| Standard|           38|                  0.56|                        2|                1|               1|                    0|                        4|           Smart TV|                 0.25|                       1|              None|                     34.2|      0|\n",
            "|  1|              141.9|              67.1|                 56|                      2|           0.24| Standard|            0|                  0.31|                        1|                1|               0|                    0|                        4|             Laptop|                 0.15|                       2|           Content|                     39.3|      0|\n",
            "|  2|               58.8|              76.9|                 54|                      8|           0.45|  Premium|           12|                  0.32|                        2|                0|               0|                    0|                        3|           Smart TV|                 0.77|                       2|              None|                     41.0|      0|\n",
            "|  3|              189.8|              64.3|                 30|                      4|           0.45|    Basic|           45|                  0.67|                        2|                0|               0|                    1|                        4|           Smart TV|                 0.94|                       0|              None|                     14.5|      1|\n",
            "|  4|              107.1|              48.2|                 52|                      5|           0.35|  Premium|            5|                  0.41|                        1|                1|               0|                    1|                        3|             Mobile|                  0.5|                       3|              None|                     42.5|      0|\n",
            "+---+-------------------+------------------+-------------------+-----------------------+---------------+---------+-------------+----------------------+-------------------------+-----------------+----------------+---------------------+-------------------------+-------------------+---------------------+------------------------+------------------+-------------------------+-------+\n",
            "only showing top 5 rows\n",
            "\n"
          ]
        }
      ]
    },
    {
      "cell_type": "code",
      "source": [],
      "metadata": {
        "id": "2TmUJV5hO7iq"
      },
      "execution_count": null,
      "outputs": []
    },
    {
      "cell_type": "markdown",
      "source": [
        "# **Data Cleaning Step**"
      ],
      "metadata": {
        "id": "_XtouWbyxLtn"
      }
    },
    {
      "cell_type": "code",
      "source": [
        "from pyspark.sql import SparkSession\n",
        "from pyspark.sql.functions import col, when, rand\n",
        "from pyspark.ml.feature import StringIndexer, OneHotEncoder, VectorAssembler\n",
        "from pyspark.ml import Pipeline\n",
        "# Data Cleaning\n",
        "df_clean = df.na.drop()\n",
        "\n",
        "# Categorical feature encoding\n",
        "categorical_cols = [\"plan_type\", \"primary_device_type\", \"cancel_reason_code\"]\n",
        "indexers = [StringIndexer(inputCol=c, outputCol=c+\"_idx\", handleInvalid=\"keep\") for c in categorical_cols]\n",
        "encoders = [OneHotEncoder(inputCol=c+\"_idx\", outputCol=c+\"_vec\") for c in categorical_cols]\n",
        "\n",
        "# Assemble features\n",
        "numeric_cols = [col for col in df.columns if col not in categorical_cols + [\"churned\"]]\n",
        "all_features = numeric_cols + [c + \"_vec\" for c in categorical_cols]\n",
        "assembler = VectorAssembler(inputCols=all_features, outputCol=\"features\")\n",
        "\n",
        "# Pipeline\n",
        "pipeline = Pipeline(stages=indexers + encoders + [assembler])\n",
        "model = pipeline.fit(df_clean)\n",
        "df_ready = model.transform(df_clean)\n",
        "\n",
        "# Final output\n",
        "df_ready.select(\"features\", \"churned\").show(5, truncate=False)"
      ],
      "metadata": {
        "id": "Nqj8FjpZxPAn",
        "outputId": "d8807ba5-9c04-4f60-d785-8bf57e1ee4fb",
        "colab": {
          "base_uri": "https://localhost:8080/"
        }
      },
      "execution_count": 4,
      "outputs": [
        {
          "output_type": "stream",
          "name": "stdout",
          "text": [
            "+------------------------------------------------------------------------------------------------------------------------+-------+\n",
            "|features                                                                                                                |churned|\n",
            "+------------------------------------------------------------------------------------------------------------------------+-------+\n",
            "|[0.0,9.8,81.6,56.0,6.0,0.14,38.0,0.56,2.0,1.0,1.0,0.0,4.0,0.25,1.0,34.2,1.0,0.0,0.0,0.0,1.0,0.0,1.0,0.0,0.0,0.0]        |0      |\n",
            "|(26,[0,1,2,3,4,5,7,8,9,12,13,14,15,16,21,24],[1.0,141.9,67.1,56.0,2.0,0.24,0.31,1.0,1.0,4.0,0.15,2.0,39.3,1.0,1.0,1.0]) |0      |\n",
            "|(26,[0,1,2,3,4,5,6,7,8,12,13,14,15,17,20,22],[2.0,58.8,76.9,54.0,8.0,0.45,12.0,0.32,2.0,3.0,0.77,2.0,41.0,1.0,1.0,1.0]) |0      |\n",
            "|(26,[0,1,2,3,4,5,6,7,8,11,12,13,15,18,20,22],[3.0,189.8,64.3,30.0,4.0,0.45,45.0,0.67,2.0,1.0,4.0,0.94,14.5,1.0,1.0,1.0])|1      |\n",
            "|[4.0,107.1,48.2,52.0,5.0,0.35,5.0,0.41,1.0,1.0,0.0,1.0,3.0,0.5,3.0,42.5,0.0,1.0,0.0,1.0,0.0,0.0,1.0,0.0,0.0,0.0]        |0      |\n",
            "+------------------------------------------------------------------------------------------------------------------------+-------+\n",
            "only showing top 5 rows\n",
            "\n"
          ]
        }
      ]
    }
  ]
}